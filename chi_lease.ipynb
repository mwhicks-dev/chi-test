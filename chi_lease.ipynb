{
 "cells": [
  {
   "cell_type": "markdown",
   "id": "ada5ff2d-a595-48b6-a5eb-a82ecee071ab",
   "metadata": {},
   "source": [
    "# Environment\n",
    "\n",
    "Run this cell before any of the cells in the [Experiment](#Environment) section."
   ]
  },
  {
   "cell_type": "code",
   "execution_count": null,
   "id": "9a234c43-92b3-489e-8b42-b8a8309d201f",
   "metadata": {},
   "outputs": [],
   "source": [
    "import time\n",
    "import json\n",
    "import os\n",
    "import chi\n",
    "\n",
    "from datetime import datetime, timedelta\n",
    "from dateutil import tz\n",
    "\n",
    "import chi.lease as lease_manager\n",
    "import chi.server as server_manager\n",
    "import chi.network as network_manager\n",
    "\n",
    "# Configure your project site and ID\n",
    "project_name = 'CH-822154'\n",
    "site = 'CHI@TACC'\n",
    "\n",
    "# Configure your testing details\n",
    "username = '{}TEST'.format(os.getenv('USER'))\n",
    "image_name = 'CC-Ubuntu16.04'\n",
    "flavor_name = 'baremetal'\n",
    "network_name = 'sharednet1'"
   ]
  },
  {
   "cell_type": "code",
   "execution_count": null,
   "id": "7d944b4a-0c58-4b04-b5c9-50f4adc444b5",
   "metadata": {},
   "outputs": [],
   "source": [
    "class Failure(Exception):\n",
    "    \"\"\"Base Class for Test Failure\"\"\"\n",
    "\n",
    "def fail(test_name, message):\n",
    "    raise Failure('Test {} failed: {}'.format(test_name, message))"
   ]
  },
  {
   "cell_type": "markdown",
   "id": "d628803e-e13d-4dff-8f99-f41715c58100",
   "metadata": {},
   "source": [
    "# Experiment\n",
    "\n",
    "Exercises on the various methods in [chi.lease](https://python-chi.readthedocs.io/en/latest/modules/lease.html)."
   ]
  },
  {
   "cell_type": "markdown",
   "id": "6601e8a2-6801-46a2-abe5-04794faa5729",
   "metadata": {},
   "source": [
    "## Functional Interface"
   ]
  },
  {
   "cell_type": "markdown",
   "id": "30d16543-a234-4fd5-b329-227b00d966e7",
   "metadata": {},
   "source": [
    "### add_device_registration()"
   ]
  },
  {
   "cell_type": "markdown",
   "id": "b2054969-21ad-4e0f-87a0-fbb23b659a9a",
   "metadata": {},
   "source": [
    "### add_fip_reservation()"
   ]
  },
  {
   "cell_type": "markdown",
   "id": "cbf99ff6-63d8-4846-94d4-d9ccf52ba9e1",
   "metadata": {},
   "source": [
    "**AddFIPReservation1**\n",
    "\n",
    "Create a lease with a single FIP reservation.\n",
    "Wait until the lease is active.\n",
    "Delete the lease."
   ]
  },
  {
   "cell_type": "code",
   "execution_count": null,
   "id": "e9216762-b45b-4bdd-97a7-00a065433a29",
   "metadata": {},
   "outputs": [],
   "source": [
    "chi.set('project_name', project_name)\n",
    "chi.use_site(site)\n",
    "test_name = 'AddFIPReservation1'\n",
    "print()\n",
    "\n",
    "# Create lease reservations\n",
    "reservations = []\n",
    "lease_manager.add_fip_reservation(reservations)\n",
    "\n",
    "# Create lease\n",
    "lease_name = '{}Lease'.format(username)\n",
    "try:\n",
    "    lease_manager.get_lease(lease_name)\n",
    "    fail(test_name, 'Lease with name {} already exists'.format(lease_name))\n",
    "except Failure as f:\n",
    "    raise f\n",
    "except:\n",
    "    pass\n",
    "lease = lease_manager.create_lease(lease_name, reservations)\n",
    "print('Created lease {}'.format(lease_name))\n",
    "\n",
    "# Wait for lease to be active\n",
    "while lease['status'] == 'PENDING' or lease['status'] == 'STARTING':\n",
    "    lease = lease_manager.get_lease(lease_name)\n",
    "    time.sleep(5)\n",
    "if lease['status'] != 'ACTIVE':\n",
    "    fail(test_name, 'Lease {} failed to launch. Instead, got lease status {}.'.format(lease_name, lease['status']))\n",
    "print('Lease {} is active.'.format(lease_name))\n",
    "\n",
    "# Remove lease\n",
    "lease_manager.delete_lease(lease_name)\n",
    "try:\n",
    "    while lease['status'] == 'ACTIVE':\n",
    "        lease = lease_manager.get_lease(lease_name)\n",
    "    fail(test_name, 'Trie to delete lease {} and ended up with lease status {}'.format(lease_name, lease['status']))\n",
    "except Failure as f:\n",
    "    raise f\n",
    "except:\n",
    "    pass\n",
    "print('Lease {} successfully removed.'.format(lease_name))"
   ]
  },
  {
   "cell_type": "markdown",
   "id": "717097d0-f7a6-436e-834a-9bcbf29066f7",
   "metadata": {},
   "source": [
    "**AddFIPReservation2**\n",
    "\n",
    "Create a lease with a single FIP reservation for two FIP.\n",
    "Wait until the lease is active.\n",
    "Delete the lease."
   ]
  },
  {
   "cell_type": "code",
   "execution_count": null,
   "id": "b969c5c7-40cb-46f2-aaa3-edd323fd9c86",
   "metadata": {},
   "outputs": [],
   "source": [
    "chi.set('project_name', project_name)\n",
    "chi.use_site(site)\n",
    "test_name = 'AddFIPReservation2'\n",
    "print()\n",
    "\n",
    "# Create lease reservations\n",
    "reservations = []\n",
    "lease_manager.add_fip_reservation(reservations, count=2)\n",
    "\n",
    "# Create lease\n",
    "lease_name = '{}Lease'.format(username)\n",
    "try:\n",
    "    lease_manager.get_lease(lease_name)\n",
    "    fail(test_name, 'Lease with name {} already exists'.format(lease_name))\n",
    "except Failure as f:\n",
    "    raise f\n",
    "except:\n",
    "    pass\n",
    "lease = lease_manager.create_lease(lease_name, reservations)\n",
    "print('Created lease {}'.format(lease_name))\n",
    "\n",
    "# Wait for lease to be active\n",
    "while lease['status'] == 'PENDING' or lease['status'] == 'STARTING':\n",
    "    lease = lease_manager.get_lease(lease_name)\n",
    "    time.sleep(5)\n",
    "if lease['status'] != 'ACTIVE':\n",
    "    fail(test_name, 'Lease {} failed to launch. Instead, got lease status {}.'.format(lease_name, lease['status']))\n",
    "print('Lease {} is active.'.format(lease_name))\n",
    "\n",
    "# Remove lease\n",
    "lease_manager.delete_lease(lease_name)\n",
    "try:\n",
    "    while lease['status'] == 'ACTIVE':\n",
    "        lease = lease_manager.get_lease(lease_name)\n",
    "    fail(test_name, 'Trie to delete lease {} and ended up with lease status {}'.format(lease_name, lease['status']))\n",
    "except Failure as f:\n",
    "    raise f\n",
    "except:\n",
    "    pass\n",
    "print('Lease {} successfully removed.'.format(lease_name))"
   ]
  },
  {
   "cell_type": "markdown",
   "id": "1b15648d-16cb-47e8-8527-2ab65ae51c48",
   "metadata": {},
   "source": [
    "**AddFIPReservation3**\n",
    "\n",
    "Create a lease with a two FIP reservations for one FIP each.\n",
    "Wait until the lease is active.\n",
    "Delete the lease."
   ]
  },
  {
   "cell_type": "code",
   "execution_count": null,
   "id": "c15b72c8-2a6c-42c3-abc1-3ca6ba688947",
   "metadata": {},
   "outputs": [],
   "source": [
    "chi.set('project_name', project_name)\n",
    "chi.use_site(site)\n",
    "test_name = 'AddFIPReservation3'\n",
    "print()\n",
    "\n",
    "# Create lease reservations\n",
    "reservations = []\n",
    "lease_manager.add_fip_reservation(reservations)\n",
    "lease_manager.add_fip_reservation(reservations)\n",
    "\n",
    "# Create lease\n",
    "lease_name = '{}Lease'.format(username)\n",
    "try:\n",
    "    lease_manager.get_lease(lease_name)\n",
    "    fail(test_name, 'Lease with name {} already exists'.format(lease_name))\n",
    "except Failure as f:\n",
    "    raise f\n",
    "except:\n",
    "    pass\n",
    "lease = lease_manager.create_lease(lease_name, reservations)\n",
    "print('Created lease {}'.format(lease_name))\n",
    "\n",
    "# Wait for lease to be active\n",
    "while lease['status'] == 'PENDING' or lease['status'] == 'STARTING':\n",
    "    lease = lease_manager.get_lease(lease_name)\n",
    "    time.sleep(5)\n",
    "if lease['status'] != 'ACTIVE':\n",
    "    fail(test_name, 'Lease {} failed to launch. Instead, got lease status {}.'.format(lease_name, lease['status']))\n",
    "print('Lease {} is active.'.format(lease_name))\n",
    "\n",
    "# Remove lease\n",
    "lease_manager.delete_lease(lease_name)\n",
    "try:\n",
    "    while lease['status'] == 'ACTIVE':\n",
    "        lease = lease_manager.get_lease(lease_name)\n",
    "    fail(test_name, 'Trie to delete lease {} and ended up with lease status {}'.format(lease_name, lease['status']))\n",
    "except Failure as f:\n",
    "    raise f\n",
    "except:\n",
    "    pass\n",
    "print('Lease {} successfully removed.'.format(lease_name))"
   ]
  },
  {
   "cell_type": "markdown",
   "id": "30cedb32-7cf8-4586-84c0-1e4478617d20",
   "metadata": {},
   "source": [
    "### add_network_reservation()"
   ]
  },
  {
   "cell_type": "markdown",
   "id": "223ce5b6-39cd-4359-a88e-de5658f3921f",
   "metadata": {},
   "source": [
    "### add_node_reservation()"
   ]
  },
  {
   "cell_type": "markdown",
   "id": "963c2d20-a8d9-4005-b59b-f86ba573d03f",
   "metadata": {},
   "source": [
    "**AddNodeReservation1**\n",
    "\n",
    "Create a lease with a single node reservation for two nodes.\n",
    "Wait until the lease is active.\n",
    "Delete the lease."
   ]
  },
  {
   "cell_type": "code",
   "execution_count": null,
   "id": "004e96be-dbc2-4184-8b5b-37ed7ee2e744",
   "metadata": {},
   "outputs": [],
   "source": [
    "chi.set('project_name', project_name)\n",
    "chi.use_site(site)\n",
    "test_name = 'AddNodeReservation1'\n",
    "print()\n",
    "\n",
    "# Create lease reservations\n",
    "reservations = []\n",
    "lease_manager.add_node_reservation(reservations, count=2)\n",
    "\n",
    "# Create lease\n",
    "lease_name = '{}Lease'.format(username)\n",
    "try:\n",
    "    lease_manager.get_lease(lease_name)\n",
    "    fail(test_name, 'Lease with name {} already exists'.format(lease_name))\n",
    "except Failure as f:\n",
    "    raise f\n",
    "except:\n",
    "    pass\n",
    "lease = lease_manager.create_lease(lease_name, reservations)\n",
    "print('Created lease {}'.format(lease_name))\n",
    "\n",
    "# Wait for lease to be active\n",
    "while lease['status'] == 'PENDING' or lease['status'] == 'STARTING':\n",
    "    lease = lease_manager.get_lease(lease_name)\n",
    "    time.sleep(5)\n",
    "if lease['status'] != 'ACTIVE':\n",
    "    fail(test_name, 'Lease {} failed to launch. Instead, got lease status {}.'.format(lease_name, lease['status']))\n",
    "print('Lease {} is active.'.format(lease_name))\n",
    "\n",
    "# Remove lease\n",
    "lease_manager.delete_lease(lease_name)\n",
    "try:\n",
    "    while lease['status'] == 'ACTIVE':\n",
    "        lease = lease_manager.get_lease(lease_name)\n",
    "    fail(test_name, 'Tried to delete lease {} and ended up with lease status {}'.format(lease_name, lease['status']))\n",
    "except Failure as f:\n",
    "    raise f\n",
    "except:\n",
    "    pass\n",
    "print('Lease {} successfully removed.'.format(lease_name))"
   ]
  },
  {
   "cell_type": "markdown",
   "id": "70d2f17a-077d-4cd8-917f-d4fee3122ecc",
   "metadata": {},
   "source": [
    "**AddNodeReservation2**\n",
    "\n",
    "Createa a lease with two node reservations for one node each.\n",
    "Wait until the lease is active.\n",
    "Delete the lease."
   ]
  },
  {
   "cell_type": "code",
   "execution_count": null,
   "id": "87c3cf19-726e-49a5-86e5-4d6fc306091e",
   "metadata": {},
   "outputs": [],
   "source": [
    "chi.set('project_name', project_name)\n",
    "chi.use_site(site)\n",
    "test_name = 'AddNodeReservation2'\n",
    "print()\n",
    "\n",
    "# Create lease reservations\n",
    "reservations = []\n",
    "lease_manager.add_node_reservation(reservations)\n",
    "lease_manager.add_node_reservation(reservations)\n",
    "\n",
    "# Create lease\n",
    "lease_name = '{}Lease'.format(username)\n",
    "try:\n",
    "    lease_manager.get_lease(lease_name)\n",
    "    fail(test_name, 'Lease with name {} already exists'.format(lease_name))\n",
    "except Failure as f:\n",
    "    raise f\n",
    "except:\n",
    "    pass\n",
    "lease = lease_manager.create_lease(lease_name, reservations)\n",
    "print('Created lease {}'.format(lease_name))\n",
    "\n",
    "# Wait for lease to be active\n",
    "while lease['status'] == 'PENDING' or lease['status'] == 'STARTING':\n",
    "    lease = lease_manager.get_lease(lease_name)\n",
    "    time.sleep(5)\n",
    "if lease['status'] != 'ACTIVE':\n",
    "    fail(test_name, 'Lease {} failed to launch. Instead, got lease status {}.'.format(lease_name, lease['status']))\n",
    "print('Lease {} is active.'.format(lease_name))\n",
    "\n",
    "# Remove lease\n",
    "lease_manager.delete_lease(lease_name)\n",
    "try:\n",
    "    while lease['status'] == 'ACTIVE':\n",
    "        lease = lease_manager.get_lease(lease_name)\n",
    "    fail(test_name, 'Trie to delete lease {} and ended up with lease status {}'.format(lease_name, lease['status']))\n",
    "except Failure as f:\n",
    "    raise f\n",
    "except:\n",
    "    pass\n",
    "print('Lease {} successfully removed.'.format(lease_name))"
   ]
  },
  {
   "cell_type": "markdown",
   "id": "65147e09-1934-4ef9-875c-ac4f76944940",
   "metadata": {},
   "source": [
    "### create_lease()"
   ]
  },
  {
   "cell_type": "markdown",
   "id": "f059d2d4-5a73-4b93-8ac9-3dc8cc54f23c",
   "metadata": {},
   "source": [
    "**CreateLease1**\n",
    "\n",
    "Create a lease with a single node resevation.\n",
    "Wait until the lease is active.\n",
    "Delete the lease."
   ]
  },
  {
   "cell_type": "code",
   "execution_count": null,
   "id": "9283761a-e8b7-41c5-9c34-4b38f2b1186c",
   "metadata": {},
   "outputs": [],
   "source": [
    "chi.set('project_name', project_name)\n",
    "chi.use_site(site)\n",
    "test_name = 'CreateLease1'\n",
    "print()\n",
    "\n",
    "# Create lease reservations\n",
    "reservations = []\n",
    "lease_manager.add_node_reservation(reservations)\n",
    "\n",
    "# Create lease\n",
    "lease_name = '{}Lease'.format(username)\n",
    "try:\n",
    "    lease_manager.get_lease(lease_name)\n",
    "    fail(test_name, 'Lease with name {} already exists.'.format(lease_name))\n",
    "except Failure as f:\n",
    "    raise f\n",
    "except:\n",
    "    pass\n",
    "lease = lease_manager.create_lease(lease_name, reservations)\n",
    "print('Created lease {}'.format(lease_name))\n",
    "\n",
    "# Wait for lease to be active\n",
    "while lease['status'] == 'PENDING' or lease['status'] == 'STARTING':\n",
    "    lease = lease_manager.get_lease(lease_name)\n",
    "    time.sleep(5)\n",
    "if lease['status'] != 'ACTIVE':\n",
    "    fail(test_name, 'Lease {} failed to launch. Instead, got lease status {}.'.format(lease_name, lease['status']))\n",
    "print('Lease {} is active'.format(lease_name))\n",
    "\n",
    "# Remove lease\n",
    "lease_manager.delete_lease(lease_name)\n",
    "try:\n",
    "    while lease['status'] == 'ACTIVE':\n",
    "        lease = lease_manager.get_lease(lease_name)\n",
    "    fail(test_name, 'Tried to delete lease {} and ended up with lease status {}.'.format(lease_name, lease['status']))\n",
    "except Failure as f:\n",
    "    raise f\n",
    "except:\n",
    "    pass\n",
    "print('Lease {} successfully removed.'.format(lease_name))"
   ]
  },
  {
   "cell_type": "markdown",
   "id": "e5b8c331-1da1-4267-a99d-bdf6d94c9cf7",
   "metadata": {},
   "source": [
    "**CreateLease2**\n",
    "\n",
    "Attempt to create a lease with no reservations."
   ]
  },
  {
   "cell_type": "code",
   "execution_count": null,
   "id": "58045c65-7788-47eb-9460-b1da6cea907d",
   "metadata": {},
   "outputs": [],
   "source": [
    "chi.set('project_name', project_name)\n",
    "chi.use_site(site)\n",
    "test_name = 'CreateLease2'\n",
    "print()\n",
    "\n",
    "# Create lease\n",
    "lease_name = '{}Lease'.format(username)\n",
    "try:\n",
    "    lease_manager.get_lease(lease_name)\n",
    "    fail(test_name, 'Lease with name {} already exists.'.format(lease_name))\n",
    "except Failure as f:\n",
    "    raise f\n",
    "except:\n",
    "    pass\n",
    "try:\n",
    "    lease = lease_manager.create_lease(lease_name, [])\n",
    "    fail(test_name, 'Created lease named {} with no reservations'.format(lease_name))\n",
    "except Failure as f:\n",
    "    raise f\n",
    "except:\n",
    "    pass\n",
    "print('Lease with no reservations did not go up')"
   ]
  },
  {
   "cell_type": "markdown",
   "id": "6bf59265-22f6-443d-82ec-e45c3b9a0f24",
   "metadata": {},
   "source": [
    "### delete_lease()"
   ]
  },
  {
   "cell_type": "markdown",
   "id": "2083d561-681b-475f-8846-48b504613939",
   "metadata": {},
   "source": [
    "**DeleteLease1**\n",
    "\n",
    "Attempting to delete a lease that doesn't exist."
   ]
  },
  {
   "cell_type": "code",
   "execution_count": null,
   "id": "1beaee5d-2958-49cf-ad14-12d1aeaa80dd",
   "metadata": {},
   "outputs": [],
   "source": [
    "chi.set('project_name', project_name)\n",
    "chi.use_site(site)\n",
    "test_name = 'DeleteLease1'\n",
    "print()\n",
    "\n",
    "# Check lease existence\n",
    "lease_name = '{}Lease'.format(username)\n",
    "try:\n",
    "    lease_manager.get_lease(lease_name)\n",
    "    fail(test_name, 'Lease with name {} already exists.'.format(lease_name))\n",
    "except Failure as f:\n",
    "    raise f\n",
    "except:\n",
    "    pass\n",
    "\n",
    "# Try to delete lease\n",
    "try:\n",
    "    lease_manager.delete_lease(lease_name)\n",
    "    fail(test_name, 'Delete lease with name {} which does not exist'.format(lease_name))\n",
    "except Failure as f:\n",
    "    raise f\n",
    "except:\n",
    "    pass\n",
    "print('Could not delete non-existant lease name')"
   ]
  },
  {
   "cell_type": "markdown",
   "id": "1486ffe3-19b0-4338-aaa2-af5389269527",
   "metadata": {},
   "source": [
    "### get_device_reservation()"
   ]
  },
  {
   "cell_type": "markdown",
   "id": "424c7009-bba3-49ca-9da4-2c2ca3a455aa",
   "metadata": {},
   "source": [
    "### get_lease()"
   ]
  },
  {
   "cell_type": "markdown",
   "id": "9f6fc857-647b-441a-adb3-0bd81f29f2ef",
   "metadata": {},
   "source": [
    "**GetLease1**\n",
    "\n",
    "Attempt to get a lease that doesn't exist."
   ]
  },
  {
   "cell_type": "code",
   "execution_count": null,
   "id": "b364548b-f1ec-4f2b-b90f-24bb8c6c499a",
   "metadata": {},
   "outputs": [],
   "source": [
    "chi.set('project_name', project_name)\n",
    "chi.use_site(site)\n",
    "test_name = 'GetLease1'\n",
    "print()\n",
    "\n",
    "# Get lease\n",
    "lease_name = '{}Lease'.format(username)\n",
    "try:\n",
    "    lease_manager.get_lease(lease_name)\n",
    "    fail(test_name, 'Lease with name {} should not exist'.format(lease_name))\n",
    "except Failure as f:\n",
    "    raise f\n",
    "except:\n",
    "    print('Could not get non-existant lease of name {}'.format(lease_name))"
   ]
  },
  {
   "cell_type": "markdown",
   "id": "b1d0361e-b1fe-4f02-9532-15f8c9b8295c",
   "metadata": {},
   "source": [
    "**GetLease2**\n",
    "\n",
    "Attempt to get identically named leases by name"
   ]
  },
  {
   "cell_type": "code",
   "execution_count": null,
   "id": "e08865b4-37d3-494f-b7c1-3349f66d909b",
   "metadata": {},
   "outputs": [],
   "source": [
    "chi.set('project_name', project_name)\n",
    "chi.use_site(site)\n",
    "test_name = 'GetLease2'\n",
    "print()\n",
    "\n",
    "# Verify lease doesn't exist\n",
    "lease_name = '{}Lease'.format(username)\n",
    "try:\n",
    "    lease_manager.get_lease(lease_name)\n",
    "    fail(test_name, 'Lease with name {} already exists'.format(lease_name))\n",
    "except Failure as f:\n",
    "    raise f\n",
    "except:\n",
    "    pass\n",
    "\n",
    "# Build reservations\n",
    "reservations = []\n",
    "lease_manager.add_node_reservation(reservations)\n",
    "\n",
    "# Create leases\n",
    "lease_1 = lease_manager.create_lease(lease_name, reservations)\n",
    "lease_2 = lease_manager.create_lease(lease_name, reservations)\n",
    "while lease_1['status'] == 'PENDING' or lease_1['status'] == 'STARTING':\n",
    "    lease_1 = lease_manager.get_lease(lease_1['id'])\n",
    "    time.sleep(5)\n",
    "if lease_1['status'] != 'ACTIVE':\n",
    "    fail(test_name, 'Lease {} (1) failed to launch. Instead, got lease status {}.'.format(lease_name, lease_1['status']))\n",
    "print('Lease {} (1) is active'.format(lease_name))\n",
    "while lease_2['status'] == 'PENDING' or lease_2['status'] == 'STARTING':\n",
    "    lease_2 = lease_manager.get_lease(lease_2['id'])\n",
    "    time.sleep(5)\n",
    "if lease_2['status'] != 'ACTIVE':\n",
    "    fail(test_name, 'Lease {} (1) failed to launch. Instead, got lease status {}.'.format(lease_name, lease_2['status']))\n",
    "print('Lease {} (2) is active'.format(lease_name))\n",
    "\n",
    "# Try to get leases\n",
    "try:\n",
    "    lease_1 = lease_manager.get(lease_name)\n",
    "    fail(test_name, 'Chi shouldn\\'t be able to get lease {} with identical name'.format(lease_name))\n",
    "except Failure as f:\n",
    "    raise f\n",
    "except:\n",
    "    pass\n",
    "try:\n",
    "    lease_2 = lease_manager.get(lease_name)\n",
    "    fail(test_name, 'Chi shouldn\\'t be able to get lease {} with identical name'.format(lease_name))\n",
    "except Failure as f:\n",
    "    raise f\n",
    "except:\n",
    "    pass\n",
    "print('Could not get leases {} by name'.format(lease_name))\n",
    "\n",
    "# Delete leases\n",
    "lease_manager.delete_lease(lease_1['id'])\n",
    "lease_manager.delete_lease(lease_2['id'])\n",
    "try:\n",
    "    while lease_1['status'] == 'ACTIVE':\n",
    "        lease_1 = lease_manager.get_lease(lease_1['id'])\n",
    "    fail(test_name, 'Tried to delete lease {} (1) and ended up with lease status {}.'.format(lease_name, lease_1['status']))\n",
    "except Failure as f:\n",
    "    raise f\n",
    "except:\n",
    "    pass\n",
    "print('Lease {} (1) successfully removed.'.format(lease_name))\n",
    "try:\n",
    "    while lease_2['status'] == 'ACTIVE':\n",
    "        lease_2 = lease_manager.get_lease(lease_2['id'])\n",
    "    fail(test_name, 'Tried to delete lease {} (2) and ended up with lease status {}.'.format(lease_name, lease_2['status']))\n",
    "except Failure as f:\n",
    "    raise f\n",
    "except:\n",
    "    pass\n",
    "print('Lease {} (2) successfully removed.'.format(lease_name))"
   ]
  },
  {
   "cell_type": "markdown",
   "id": "887f97bd-f4ac-47ed-8c5f-fdc5396cb6cc",
   "metadata": {},
   "source": [
    "**GetLease3**\n",
    "\n",
    "Attempt to get identically named leases by ID."
   ]
  },
  {
   "cell_type": "code",
   "execution_count": null,
   "id": "789c64b9-8efb-41db-af64-b24d7f80be0f",
   "metadata": {},
   "outputs": [],
   "source": [
    "chi.set('project_name', project_name)\n",
    "chi.use_site(site)\n",
    "test_name = 'GetLease3'\n",
    "print()\n",
    "\n",
    "# Verify lease doesn't exist\n",
    "lease_name = '{}Lease'.format(username)\n",
    "try:\n",
    "    lease_manager.get_lease(lease_name)\n",
    "    fail(test_name, 'Lease with name {} already exists'.format(lease_name))\n",
    "except Failure as f:\n",
    "    raise f\n",
    "except:\n",
    "    pass\n",
    "\n",
    "# Build reservations\n",
    "reservations = []\n",
    "lease_manager.add_node_reservation(reservations)\n",
    "\n",
    "# Create leases\n",
    "lease_1 = lease_manager.create_lease(lease_name, reservations)\n",
    "lease_2 = lease_manager.create_lease(lease_name, reservations)\n",
    "while lease_1['status'] == 'PENDING' or lease_1['status'] == 'STARTING':\n",
    "    lease_1 = lease_manager.get_lease(lease_1['id'])\n",
    "    time.sleep(5)\n",
    "if lease_1['status'] != 'ACTIVE':\n",
    "    fail(test_name, 'Lease {} (1) failed to launch. Instead, got lease status {}.'.format(lease_name, lease_1['status']))\n",
    "print('Lease {} (1) is active'.format(lease_name))\n",
    "while lease_2['status'] == 'PENDING' or lease_2['status'] == 'STARTING':\n",
    "    lease_2 = lease_manager.get_lease(lease_2['id'])\n",
    "    time.sleep(5)\n",
    "if lease_2['status'] != 'ACTIVE':\n",
    "    fail(test_name, 'Lease {} (1) failed to launch. Instead, got lease status {}.'.format(lease_name, lease_2['status']))\n",
    "print('Lease {} (2) is active'.format(lease_name))\n",
    "\n",
    "# Try to get leases\n",
    "try:\n",
    "    lease_1 = lease_manager.get_lease(lease_1['id'])\n",
    "except:\n",
    "    fail(test_name, 'Could not get identical lease {} (1) by unique ID'.format(lease_name))\n",
    "try:\n",
    "    lease_1 = lease_manager.get_lease(lease_1['id'])\n",
    "except:\n",
    "    fail(test_name, 'Could not get identical lease {} (2) by unique ID'.format(lease_name))\n",
    "print('Successfully got individual leases {} by ID'.format(lease_name))\n",
    "\n",
    "# Delete leases\n",
    "lease_manager.delete_lease(lease_1['id'])\n",
    "lease_manager.delete_lease(lease_2['id'])\n",
    "try:\n",
    "    while lease_1['status'] == 'ACTIVE':\n",
    "        lease_1 = lease_manager.get_lease(lease_1['id'])\n",
    "    fail(test_name, 'Tried to delete lease {} (1) and ended up with lease status {}.'.format(lease_name, lease_1['status']))\n",
    "except Failure as f:\n",
    "    raise f\n",
    "except:\n",
    "    pass\n",
    "print('Lease {} (1) successfully removed.'.format(lease_name))\n",
    "try:\n",
    "    while lease_2['status'] == 'ACTIVE':\n",
    "        lease_2 = lease_manager.get_lease(lease_2['id'])\n",
    "    fail(test_name, 'Tried to delete lease {} (2) and ended up with lease status {}.'.format(lease_name, lease_2['status']))\n",
    "except Failure as f:\n",
    "    raise f\n",
    "except:\n",
    "    pass\n",
    "print('Lease {} (2) successfully removed.'.format(lease_name))"
   ]
  },
  {
   "cell_type": "markdown",
   "id": "8ac22841-b135-4e8a-94f8-b10b71005b1a",
   "metadata": {},
   "source": [
    "### get_lease_id()"
   ]
  },
  {
   "cell_type": "markdown",
   "id": "13677e50-f58a-41d9-9524-fe1c848c66bd",
   "metadata": {},
   "source": [
    "**GetLeaseId1**\n",
    "\n",
    "Create a lease.\n",
    "Get its ID.\n",
    "Verify its ID is the same as in the lease object.\n",
    "Delete the lease."
   ]
  },
  {
   "cell_type": "code",
   "execution_count": null,
   "id": "97165136-371b-4dcb-96ac-4f5e8c6a7311",
   "metadata": {},
   "outputs": [],
   "source": [
    "chi.set('project_name', project_name)\n",
    "chi.use_site(site)\n",
    "test_name = 'GetLeaseId1'\n",
    "print()\n",
    "\n",
    "# Verify lease doesn't exist\n",
    "lease_name = '{}Lease'.format(username)\n",
    "try:\n",
    "    lease_manager.get_lease(lease_name)\n",
    "    fail(test_name, 'Lease with name {} already exists'.format(lease_name))\n",
    "except Failure as f:\n",
    "    raise f\n",
    "except:\n",
    "    pass\n",
    "\n",
    "# Build reservations\n",
    "reservations = []\n",
    "lease_manager.add_node_reservation(reservations)\n",
    "\n",
    "# Create the lease\n",
    "lease = lease_manager.create_lease(lease_name, reservations)\n",
    "while lease['status'] == 'PENDING' or lease['status'] == 'STARTING':\n",
    "    lease = lease_manager.get_lease(lease['id'])\n",
    "    time.sleep(5)\n",
    "if lease['status'] != 'ACTIVE':\n",
    "    fail(test_name, 'Tried to start lease {} but got status {}'.format(lease_name, lease['status']))\n",
    "\n",
    "# Get the lease ID\n",
    "lease_id = lease_manager.get_lease_id(lease_name)\n",
    "if lease_id == lease['id']:\n",
    "    print('Successfully got lease {} ID'.format(lease_name))\n",
    "else:\n",
    "    fail(test_name, 'Expected ID {} but got ID {}'.format(lease['id'], lease_id))\n",
    "\n",
    "# Clean up\n",
    "lease_manager.delete_lease(lease['id'])\n",
    "try:\n",
    "    while lease['status'] == 'ACTIVE':\n",
    "        lease = lease_manager.get_lease(lease['id'])\n",
    "        time.sleep(5)\n",
    "    fail(test_name, 'Tried to delete lease {} and ended up with status {}'.format(lease_name, lease['status']))\n",
    "except Failure as f:\n",
    "    raise f\n",
    "except:\n",
    "    pass\n",
    "print('Lease {} successfully removed'.format(lease_name))"
   ]
  },
  {
   "cell_type": "markdown",
   "id": "0ec919f2-9e34-4f93-a0e4-ae6b7f97b56d",
   "metadata": {},
   "source": [
    "### get_node_reservation()"
   ]
  },
  {
   "cell_type": "markdown",
   "id": "4cdb6024-6671-4273-8d96-53f9142dc983",
   "metadata": {},
   "source": [
    "### get_reserved_floating_ips()"
   ]
  },
  {
   "cell_type": "markdown",
   "id": "dc75feae-a9b4-450d-a8ce-242976ec6a6b",
   "metadata": {},
   "source": [
    "### lease_duration()"
   ]
  },
  {
   "cell_type": "markdown",
   "id": "a673ba2e-5e8c-42ff-8fe7-981bff0c030a",
   "metadata": {},
   "source": [
    "### wait_for_active()"
   ]
  },
  {
   "cell_type": "markdown",
   "id": "99987169-ca52-4519-9ae9-9d1015006f15",
   "metadata": {},
   "source": [
    "## Object-oriented Interface"
   ]
  },
  {
   "cell_type": "markdown",
   "id": "f1784de9-b582-4a96-8205-c464be0827f6",
   "metadata": {},
   "source": [
    "### create_server()"
   ]
  },
  {
   "cell_type": "markdown",
   "id": "7e680aab-a8a8-4fa9-93f5-b7346edf7334",
   "metadata": {},
   "source": [
    "### delete()"
   ]
  },
  {
   "cell_type": "markdown",
   "id": "ee45f9c2-de57-4cca-a136-0f558cdb1a02",
   "metadata": {},
   "source": [
    "### from_existing()"
   ]
  },
  {
   "cell_type": "markdown",
   "id": "289bea59-9f61-4e05-9d20-7de0b1d391ea",
   "metadata": {},
   "source": [
    "### ready"
   ]
  },
  {
   "cell_type": "markdown",
   "id": "baaf1321-40b5-46b4-afbb-8145e530006b",
   "metadata": {},
   "source": [
    "### refresh()"
   ]
  },
  {
   "cell_type": "markdown",
   "id": "27d524cf-8890-4d85-989b-8ca8cbdc4a55",
   "metadata": {},
   "source": [
    "### status"
   ]
  },
  {
   "cell_type": "markdown",
   "id": "7646cfeb-6164-46cf-9d81-8cc3d94e2b5e",
   "metadata": {},
   "source": [
    "### wait()"
   ]
  },
  {
   "cell_type": "code",
   "execution_count": null,
   "id": "a250b4e9-26f6-47e5-a12a-16acbdbf410f",
   "metadata": {},
   "outputs": [],
   "source": []
  }
 ],
 "metadata": {
  "kernelspec": {
   "display_name": "Python 3 (ipykernel)",
   "language": "python",
   "name": "python3"
  },
  "language_info": {
   "codemirror_mode": {
    "name": "ipython",
    "version": 3
   },
   "file_extension": ".py",
   "mimetype": "text/x-python",
   "name": "python",
   "nbconvert_exporter": "python",
   "pygments_lexer": "ipython3",
   "version": "3.9.6"
  }
 },
 "nbformat": 4,
 "nbformat_minor": 5
}
